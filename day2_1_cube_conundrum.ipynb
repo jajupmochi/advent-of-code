{
  "nbformat": 4,
  "nbformat_minor": 0,
  "metadata": {
    "colab": {
      "provenance": [],
      "authorship_tag": "ABX9TyNrrBbMBd2JN0ETVDycULqy",
      "include_colab_link": true
    },
    "kernelspec": {
      "name": "python3",
      "display_name": "Python 3"
    },
    "language_info": {
      "name": "python"
    }
  },
  "cells": [
    {
      "cell_type": "markdown",
      "metadata": {
        "id": "view-in-github",
        "colab_type": "text"
      },
      "source": [
        "<a href=\"https://colab.research.google.com/github/jajupmochi/advent-of-code/blob/main/day2_1_cube_conundrum.ipynb\" target=\"_parent\"><img src=\"https://colab.research.google.com/assets/colab-badge.svg\" alt=\"Open In Colab\"/></a>"
      ]
    },
    {
      "cell_type": "code",
      "source": [
        "from typing import TextIO\n",
        "\n",
        "\n",
        "digit_words = ['one', 'two', 'three', 'four', 'five', 'six', 'seven', 'eight', 'nine']\n",
        "\n",
        "\n",
        "def find_digit_word(string: str, idx: str, dw_list: list) -> str:\n",
        "  \"\"\"\n",
        "  Check if there is a digit word starting from the given index. If yes, return\n",
        "  the word; if not return False.\n",
        "  \"\"\"\n",
        "  # print(string)\n",
        "  for w in dw_list:\n",
        "    # print('w: ', w)\n",
        "    if idx + len(w) > len(string):\n",
        "      return False\n",
        "\n",
        "    found = True\n",
        "    for i, c in enumerate(w):\n",
        "      # print('c:', c)\n",
        "      if string[idx + i] != c:\n",
        "        # print(True)\n",
        "        found = False\n",
        "        break\n",
        "    if found:\n",
        "      return w\n",
        "  return False\n",
        "\n",
        "\n",
        "def find_left_most_digit(string: str, dw_list: list) -> tuple[int, int]:\n",
        "  \"\"\"\n",
        "  Find the left most digit in the string. Return the digit and the index of\n",
        "  the digit. If not found, set the digit to None and the index to the length\n",
        "  of the string.\n",
        "  \"\"\"\n",
        "  idx = 0\n",
        "  left = None\n",
        "  while idx < len(string) - 2:\n",
        "    # If find a digit:\n",
        "    if string[idx].isdigit():\n",
        "      left = int(string[idx])\n",
        "      return left, idx\n",
        "\n",
        "    # If find a digit word:\n",
        "    digit_w = find_digit_word(string, idx, dw_list)\n",
        "    if digit_w:\n",
        "      left = dw_list.index(digit_w) + 1\n",
        "      idx += len(digit_w) - 1\n",
        "      return left, idx\n",
        "\n",
        "    idx += 1\n",
        "\n",
        "  # Check the rest 2 chars:\n",
        "  if left is None:\n",
        "    for s in string[-2:]:\n",
        "      if s.isdigit():\n",
        "        left = int(s)\n",
        "        return left, idx\n",
        "\n",
        "      idx += 1\n",
        "\n",
        "  return left, idx\n",
        "\n",
        "\n",
        "def recover_caliboration_value(string: str) -> int:\n",
        "  \"\"\"\n",
        "  Recover the caliboration value from the given string.\n",
        "  \"\"\"\n",
        "  if len(string) == 0:\n",
        "    raise Exception('The string is empty.')\n",
        "\n",
        "  # Find left most digit:\n",
        "  left, idx = find_left_most_digit(string, digit_words)\n",
        "\n",
        "  # If the whole string is traversed:\n",
        "  if idx == len(string):\n",
        "    if left is not None:\n",
        "      return int(int(left) * 11)\n",
        "    else:\n",
        "      raise Exception('The string does not contain any value.')\n",
        "\n",
        "  # If not, find right most int:\n",
        "  str_remain = string[-1:idx:-1]\n",
        "  right = 0\n",
        "  if len(str_remain) > 0:\n",
        "    right, idx = find_left_most_digit(str_remain, [w[::-1] for w in digit_words])\n",
        "\n",
        "  if right == 0:\n",
        "    return int(int(left) * 11)\n",
        "  else:\n",
        "    return left * 10 + right\n",
        "\n",
        "\n",
        "def get_sum(doc: TextIO) -> int:\n",
        "  \"\"\"\n",
        "  Get the sum of all caliboration values in the document.\n",
        "  \"\"\"\n",
        "  total = 0\n",
        "  for line in doc:\n",
        "    print(line.strip())\n",
        "    val = recover_caliboration_value(line.strip())\n",
        "    print(val)\n",
        "    total += val\n",
        "  return total"
      ],
      "metadata": {
        "id": "aGheGgWZwCnl"
      },
      "execution_count": null,
      "outputs": []
    },
    {
      "cell_type": "code",
      "source": [
        "# example input:\n",
        "from io import StringIO\n",
        "input = StringIO(\n",
        "'''two1nine\n",
        "eightwothree\n",
        "abcone2threexyz\n",
        "xtwone3four\n",
        "4nineeightseven2\n",
        "zoneight234\n",
        "7pqrstsixteen'''\n",
        ")\n",
        "\n",
        "val_sum = get_sum(input)\n",
        "print(val_sum)"
      ],
      "metadata": {
        "colab": {
          "base_uri": "https://localhost:8080/"
        },
        "id": "92o-uxID7R7d",
        "outputId": "f1bc1029-0e40-4782-b64c-796a4ce0e545"
      },
      "execution_count": null,
      "outputs": [
        {
          "output_type": "stream",
          "name": "stdout",
          "text": [
            "two1nine\n",
            "29\n",
            "eightwothree\n",
            "83\n",
            "abcone2threexyz\n",
            "13\n",
            "xtwone3four\n",
            "24\n",
            "4nineeightseven2\n",
            "42\n",
            "zoneight234\n",
            "14\n",
            "7pqrstsixteen\n",
            "76\n",
            "281\n"
          ]
        }
      ]
    },
    {
      "cell_type": "code",
      "source": [
        "def get_colab_cwd():\n",
        "  import os\n",
        "  from google.colab import drive\n",
        "  drive.mount('/content/drive')\n",
        "  # current_folder = os.getcwd()\n",
        "  # print(current_folder)\n",
        "  # drive_folder = current_folder.replace('/content', '/content/drive/My Drive')\n",
        "  drive_folder = '/content/drive/My Drive/Colab Notebooks/advent_of_code/2023/'\n",
        "  # print(drive_folder)\n",
        "  return drive_folder\n",
        "\n",
        "\n",
        "def get_data_from_url(url: str) -> TextIO:\n",
        "  import requests\n",
        "  response = requests.get(url)\n",
        "  return StringIO(response.text)"
      ],
      "metadata": {
        "id": "76oPqNzLAeUE"
      },
      "execution_count": null,
      "outputs": []
    },
    {
      "cell_type": "code",
      "source": [
        "# puzzle input:\n",
        "import time\n",
        "start_time = time.time()\n",
        "doc_file = get_colab_cwd() + 'day1_input.txt'\n",
        "val_sum = get_sum(doc_file)\n",
        "print(val_sum)\n",
        "print(f'Time spent: {time.time() - start_time}seconds.')"
      ],
      "metadata": {
        "colab": {
          "base_uri": "https://localhost:8080/",
          "height": 391
        },
        "id": "QWrcBLry9KE4",
        "outputId": "bff3667c-d056-4123-a56e-c0b6cdc9751c"
      },
      "execution_count": null,
      "outputs": [
        {
          "output_type": "stream",
          "name": "stdout",
          "text": [
            "Mounted at /content/drive\n",
            "/\n"
          ]
        },
        {
          "output_type": "error",
          "ename": "Exception",
          "evalue": "The string does not contain any value.",
          "traceback": [
            "\u001b[0;31m---------------------------------------------------------------------------\u001b[0m",
            "\u001b[0;31mException\u001b[0m                                 Traceback (most recent call last)",
            "\u001b[0;32m<ipython-input-64-574e79621710>\u001b[0m in \u001b[0;36m<cell line: 5>\u001b[0;34m()\u001b[0m\n\u001b[1;32m      3\u001b[0m \u001b[0mstart_time\u001b[0m \u001b[0;34m=\u001b[0m \u001b[0mtime\u001b[0m\u001b[0;34m.\u001b[0m\u001b[0mtime\u001b[0m\u001b[0;34m(\u001b[0m\u001b[0;34m)\u001b[0m\u001b[0;34m\u001b[0m\u001b[0;34m\u001b[0m\u001b[0m\n\u001b[1;32m      4\u001b[0m \u001b[0mdoc_file\u001b[0m \u001b[0;34m=\u001b[0m \u001b[0mget_colab_cwd\u001b[0m\u001b[0;34m(\u001b[0m\u001b[0;34m)\u001b[0m \u001b[0;34m+\u001b[0m \u001b[0;34m'day1_input.txt'\u001b[0m\u001b[0;34m\u001b[0m\u001b[0;34m\u001b[0m\u001b[0m\n\u001b[0;32m----> 5\u001b[0;31m \u001b[0mval_sum\u001b[0m \u001b[0;34m=\u001b[0m \u001b[0mget_sum\u001b[0m\u001b[0;34m(\u001b[0m\u001b[0mdoc_file\u001b[0m\u001b[0;34m)\u001b[0m\u001b[0;34m\u001b[0m\u001b[0;34m\u001b[0m\u001b[0m\n\u001b[0m\u001b[1;32m      6\u001b[0m \u001b[0mprint\u001b[0m\u001b[0;34m(\u001b[0m\u001b[0mval_sum\u001b[0m\u001b[0;34m)\u001b[0m\u001b[0;34m\u001b[0m\u001b[0;34m\u001b[0m\u001b[0m\n\u001b[1;32m      7\u001b[0m \u001b[0mprint\u001b[0m\u001b[0;34m(\u001b[0m\u001b[0;34mf'Time spent: {time.time() - start_time}seconds.'\u001b[0m\u001b[0;34m)\u001b[0m\u001b[0;34m\u001b[0m\u001b[0;34m\u001b[0m\u001b[0m\n",
            "\u001b[0;32m<ipython-input-58-7a385bfe0bea>\u001b[0m in \u001b[0;36mget_sum\u001b[0;34m(doc)\u001b[0m\n\u001b[1;32m     99\u001b[0m   \u001b[0;32mfor\u001b[0m \u001b[0mline\u001b[0m \u001b[0;32min\u001b[0m \u001b[0mdoc\u001b[0m\u001b[0;34m:\u001b[0m\u001b[0;34m\u001b[0m\u001b[0;34m\u001b[0m\u001b[0m\n\u001b[1;32m    100\u001b[0m     \u001b[0mprint\u001b[0m\u001b[0;34m(\u001b[0m\u001b[0mline\u001b[0m\u001b[0;34m.\u001b[0m\u001b[0mstrip\u001b[0m\u001b[0;34m(\u001b[0m\u001b[0;34m)\u001b[0m\u001b[0;34m)\u001b[0m\u001b[0;34m\u001b[0m\u001b[0;34m\u001b[0m\u001b[0m\n\u001b[0;32m--> 101\u001b[0;31m     \u001b[0mval\u001b[0m \u001b[0;34m=\u001b[0m \u001b[0mrecover_caliboration_value\u001b[0m\u001b[0;34m(\u001b[0m\u001b[0mline\u001b[0m\u001b[0;34m.\u001b[0m\u001b[0mstrip\u001b[0m\u001b[0;34m(\u001b[0m\u001b[0;34m)\u001b[0m\u001b[0;34m)\u001b[0m\u001b[0;34m\u001b[0m\u001b[0;34m\u001b[0m\u001b[0m\n\u001b[0m\u001b[1;32m    102\u001b[0m     \u001b[0mprint\u001b[0m\u001b[0;34m(\u001b[0m\u001b[0mval\u001b[0m\u001b[0;34m)\u001b[0m\u001b[0;34m\u001b[0m\u001b[0;34m\u001b[0m\u001b[0m\n\u001b[1;32m    103\u001b[0m     \u001b[0mtotal\u001b[0m \u001b[0;34m+=\u001b[0m \u001b[0mval\u001b[0m\u001b[0;34m\u001b[0m\u001b[0;34m\u001b[0m\u001b[0m\n",
            "\u001b[0;32m<ipython-input-58-7a385bfe0bea>\u001b[0m in \u001b[0;36mrecover_caliboration_value\u001b[0;34m(string)\u001b[0m\n\u001b[1;32m     78\u001b[0m       \u001b[0;32mreturn\u001b[0m \u001b[0mint\u001b[0m\u001b[0;34m(\u001b[0m\u001b[0mint\u001b[0m\u001b[0;34m(\u001b[0m\u001b[0mleft\u001b[0m\u001b[0;34m)\u001b[0m \u001b[0;34m*\u001b[0m \u001b[0;36m11\u001b[0m\u001b[0;34m)\u001b[0m\u001b[0;34m\u001b[0m\u001b[0;34m\u001b[0m\u001b[0m\n\u001b[1;32m     79\u001b[0m     \u001b[0;32melse\u001b[0m\u001b[0;34m:\u001b[0m\u001b[0;34m\u001b[0m\u001b[0;34m\u001b[0m\u001b[0m\n\u001b[0;32m---> 80\u001b[0;31m       \u001b[0;32mraise\u001b[0m \u001b[0mException\u001b[0m\u001b[0;34m(\u001b[0m\u001b[0;34m'The string does not contain any value.'\u001b[0m\u001b[0;34m)\u001b[0m\u001b[0;34m\u001b[0m\u001b[0;34m\u001b[0m\u001b[0m\n\u001b[0m\u001b[1;32m     81\u001b[0m \u001b[0;34m\u001b[0m\u001b[0m\n\u001b[1;32m     82\u001b[0m   \u001b[0;31m# If not, find right most int:\u001b[0m\u001b[0;34m\u001b[0m\u001b[0;34m\u001b[0m\u001b[0m\n",
            "\u001b[0;31mException\u001b[0m: The string does not contain any value."
          ]
        }
      ]
    },
    {
      "cell_type": "markdown",
      "source": [
        "Worst time complexity: O(n)\n",
        "Space complexity: O(1)\n",
        "\n",
        "> 添加区块引用符号\n",
        "\n"
      ],
      "metadata": {
        "id": "lD2WpV_LEHz9"
      }
    },
    {
      "cell_type": "code",
      "source": [],
      "metadata": {
        "id": "43y7pAEV-bnG"
      },
      "execution_count": null,
      "outputs": []
    }
  ]
}