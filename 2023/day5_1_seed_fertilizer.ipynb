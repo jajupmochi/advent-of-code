{
  "nbformat": 4,
  "nbformat_minor": 0,
  "metadata": {
    "colab": {
      "provenance": [],
      "toc_visible": true,
      "include_colab_link": true
    },
    "kernelspec": {
      "name": "python3",
      "display_name": "Python 3"
    },
    "language_info": {
      "name": "python"
    }
  },
  "cells": [
    {
      "cell_type": "markdown",
      "metadata": {
        "id": "view-in-github",
        "colab_type": "text"
      },
      "source": [
        "<a href=\"https://colab.research.google.com/github/jajupmochi/advent-of-code/blob/main/2023/day5_1_seed_fertilizer.ipynb\" target=\"_parent\"><img src=\"https://colab.research.google.com/assets/colab-badge.svg\" alt=\"Open In Colab\"/></a>"
      ]
    },
    {
      "cell_type": "code",
      "source": [
        "from typing import TextIO\n",
        "\n",
        "\n",
        "def map_number(number: int, map_str: str):\n",
        "  maps = map_str.split('\\n')[1:]\n",
        "  for map in maps:\n",
        "    dest, src, range = [int(i) for i in map.split(' ')]\n",
        "    if src <= number < src + range:\n",
        "      offset = number - src\n",
        "      number = dest + offset\n",
        "      break\n",
        "  return number\n",
        "\n",
        "def get_num(seed: int, map_strs) -> int:\n",
        "  \"\"\"\n",
        "  Get the final location number.\n",
        "  \"\"\"\n",
        "  number = seed\n",
        "  for map_s in map_strs:\n",
        "    number = map_number(number, map_s)\n",
        "\n",
        "  return number\n",
        "\n",
        "\n",
        "def get_min(doc: TextIO) -> int:\n",
        "  \"\"\"\n",
        "  Get the min.\n",
        "  \"\"\"\n",
        "  doc = doc.read()\n",
        "  sections = [i.strip() for i in doc.split('\\n\\n')]\n",
        "  seeds = [int(i) for i in sections[0][7:].split(' ')]\n",
        "\n",
        "  min_num = float('inf')\n",
        "  for i, seed in enumerate(seeds):\n",
        "    val = get_num(seed, sections[1:])\n",
        "    print(f'seed {seed}: {val}')\n",
        "    if val < min_num:\n",
        "      min_num = val\n",
        "  return min_num"
      ],
      "metadata": {
        "id": "aGheGgWZwCnl"
      },
      "execution_count": null,
      "outputs": []
    },
    {
      "cell_type": "markdown",
      "source": [],
      "metadata": {
        "id": "5HRR6sSBqhHz"
      }
    },
    {
      "cell_type": "code",
      "source": [
        "# example input:\n",
        "from io import StringIO\n",
        "input = StringIO(\n",
        "'''seeds: 79 14 55 13\n",
        "\n",
        "seed-to-soil map:\n",
        "50 98 2\n",
        "52 50 48\n",
        "\n",
        "soil-to-fertilizer map:\n",
        "0 15 37\n",
        "37 52 2\n",
        "39 0 15\n",
        "\n",
        "fertilizer-to-water map:\n",
        "49 53 8\n",
        "0 11 42\n",
        "42 0 7\n",
        "57 7 4\n",
        "\n",
        "water-to-light map:\n",
        "88 18 7\n",
        "18 25 70\n",
        "\n",
        "light-to-temperature map:\n",
        "45 77 23\n",
        "81 45 19\n",
        "68 64 13\n",
        "\n",
        "temperature-to-humidity map:\n",
        "0 69 1\n",
        "1 0 69\n",
        "\n",
        "humidity-to-location map:\n",
        "60 56 37\n",
        "56 93 4\n",
        "'''\n",
        ")\n",
        "\n",
        "val_min = get_min(input)\n",
        "print(val_min)"
      ],
      "metadata": {
        "colab": {
          "base_uri": "https://localhost:8080/"
        },
        "id": "92o-uxID7R7d",
        "outputId": "be77c431-d09b-490b-d0e1-7b9188e2cd04"
      },
      "execution_count": null,
      "outputs": [
        {
          "output_type": "stream",
          "name": "stdout",
          "text": [
            "seed 79: 82\n",
            "seed 14: 43\n",
            "seed 55: 86\n",
            "seed 13: 35\n",
            "35\n"
          ]
        }
      ]
    },
    {
      "cell_type": "code",
      "source": [
        "import requests\n",
        "from io import StringIO\n",
        "\n",
        "def load_text_file_from_github(url: str) -> StringIO:\n",
        "    response = requests.get(url)\n",
        "    response.raise_for_status()  # Raise an error for bad responses (4xx, 5xx)\n",
        "    # Convert response text into a file-like object\n",
        "    return StringIO(response.text)"
      ],
      "metadata": {
        "id": "76oPqNzLAeUE"
      },
      "execution_count": null,
      "outputs": []
    },
    {
      "cell_type": "code",
      "source": [
        "# puzzle input:\n",
        "import time\n",
        "start_time = time.time()\n",
        "doc_file = load_text_file_from_github('https://raw.githubusercontent.com/jajupmochi/advent-of-code/refs/heads/main/2023/day5_input.txt')\n",
        "val_min = get_min(doc_file)\n",
        "print(val_min)\n",
        "print(f'Time spent: {time.time() - start_time}seconds.')"
      ],
      "metadata": {
        "colab": {
          "base_uri": "https://localhost:8080/"
        },
        "id": "QWrcBLry9KE4",
        "outputId": "fe432a11-0943-444a-a9b4-a68ede1117d8"
      },
      "execution_count": null,
      "outputs": [
        {
          "output_type": "stream",
          "name": "stdout",
          "text": [
            "seed 1778931867: 3527214727\n",
            "seed 1436999653: 411334602\n",
            "seed 3684516104: 1846863896\n",
            "seed 2759374: 1011130144\n",
            "seed 1192793053: 107430936\n",
            "seed 358764985: 2144123292\n",
            "seed 1698790056: 2030474631\n",
            "seed 76369598: 2256093975\n",
            "seed 3733854793: 905605726\n",
            "seed 214008036: 3270099765\n",
            "seed 4054174000: 633691295\n",
            "seed 171202266: 235972814\n",
            "seed 3630057255: 3827359985\n",
            "seed 25954395: 2918856711\n",
            "seed 798587440: 2586721517\n",
            "seed 316327323: 3414553015\n",
            "seed 290129780: 2926997052\n",
            "seed 7039123: 1015409893\n",
            "seed 3334326492: 3315197680\n",
            "seed 246125391: 3101317175\n",
            "107430936\n",
            "Time spent: 0.15275907516479492seconds.\n"
          ]
        }
      ]
    },
    {
      "cell_type": "markdown",
      "source": [
        "Worst time complexity:\n",
        "\n",
        "Space complexity: O(1)\n"
      ],
      "metadata": {
        "id": "lD2WpV_LEHz9"
      }
    }
  ]
}