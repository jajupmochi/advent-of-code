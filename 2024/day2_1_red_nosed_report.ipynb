{
  "cells": [
    {
      "cell_type": "markdown",
      "metadata": {
        "id": "view-in-github",
        "colab_type": "text"
      },
      "source": [
        "<a href=\"https://colab.research.google.com/github/jajupmochi/advent-of-code/blob/main/2024/day2_1_red_nosed_report.ipynb\" target=\"_parent\"><img src=\"https://colab.research.google.com/assets/colab-badge.svg\" alt=\"Open In Colab\"/></a>"
      ]
    },
    {
      "cell_type": "code",
      "execution_count": 39,
      "metadata": {
        "id": "aGheGgWZwCnl"
      },
      "outputs": [],
      "source": [
        "from typing import TextIO\n",
        "import numpy as np\n",
        "\n",
        "\n",
        "def get_sum(doc: TextIO) -> int:\n",
        "  \"\"\"\n",
        "  Get the sum.\n",
        "  \"\"\"\n",
        "  doc = doc.read()\n",
        "  rows = doc.strip().split('\\n')\n",
        "  rows = [np.ravel(np.fromstring(r, sep=' ')) for r in rows]\n",
        "  # print(rows)\n",
        "  max_len = np.max([len(r) for r in rows])\n",
        "  # print(max_len)\n",
        "  arr = np.array([np.pad(r, (0, max_len - len(r)), constant_values=np.nan) for r in rows])\n",
        "  # print(arr)\n",
        "  diff = np.diff(arr, axis=1)\n",
        "  # print(diff)\n",
        "  mask = ~np.isnan(diff)\n",
        "  safe = np.all(((diff >= 1) & (diff <= 3)) | ~mask, axis=1) | np.all(((diff >= -3) & (diff <= -1)) | ~mask, axis=1)\n",
        "  # print(safe)\n",
        "  safe = np.sum(safe)\n",
        "  return safe"
      ]
    },
    {
      "cell_type": "code",
      "execution_count": 40,
      "metadata": {
        "colab": {
          "base_uri": "https://localhost:8080/"
        },
        "id": "92o-uxID7R7d",
        "outputId": "6a47fcac-7be2-4c30-cc7d-22b7ecb9a9d7"
      },
      "outputs": [
        {
          "output_type": "stream",
          "name": "stdout",
          "text": [
            "2\n"
          ]
        }
      ],
      "source": [
        "# example input:\n",
        "from io import StringIO\n",
        "input = StringIO(\n",
        "'''7 6 4 2 1 0\n",
        "1 2 7 8 9\n",
        "9 7 6 2 1\n",
        "1 3 2 4 5\n",
        "8 6 4 4 1\n",
        "1 3 6 7 9\n",
        "'''\n",
        ")\n",
        "\n",
        "val = get_sum(input)\n",
        "print(val)"
      ]
    },
    {
      "cell_type": "code",
      "execution_count": 41,
      "metadata": {
        "id": "76oPqNzLAeUE"
      },
      "outputs": [],
      "source": [
        "import requests\n",
        "from io import StringIO\n",
        "\n",
        "def load_text_file_from_github(url: str) -> StringIO:\n",
        "    response = requests.get(url)\n",
        "    response.raise_for_status()  # Raise an error for bad responses (4xx, 5xx)\n",
        "    # Convert response text into a file-like object\n",
        "    return StringIO(response.text)"
      ]
    },
    {
      "cell_type": "code",
      "execution_count": 43,
      "metadata": {
        "colab": {
          "base_uri": "https://localhost:8080/"
        },
        "id": "QWrcBLry9KE4",
        "outputId": "6f4b0291-bd8e-43ff-b49b-96a835615b12"
      },
      "outputs": [
        {
          "output_type": "stream",
          "name": "stdout",
          "text": [
            "332\n",
            "Time spent: 0.2350454330444336seconds.\n"
          ]
        }
      ],
      "source": [
        "# puzzle input:\n",
        "import time\n",
        "start_time = time.time()\n",
        "doc_file = load_text_file_from_github('https://raw.githubusercontent.com/jajupmochi/advent-of-code/refs/heads/main/2024/day2_input.txt')\n",
        "val = get_sum(doc_file)\n",
        "print(val)\n",
        "print(f'Time spent: {time.time() - start_time}seconds.')"
      ]
    },
    {
      "cell_type": "markdown",
      "metadata": {
        "id": "lD2WpV_LEHz9"
      },
      "source": [
        "Worst time complexity:\n",
        "\n",
        "Space complexity:\n"
      ]
    }
  ],
  "metadata": {
    "colab": {
      "provenance": [],
      "include_colab_link": true
    },
    "kernelspec": {
      "display_name": "Python 3",
      "name": "python3"
    },
    "language_info": {
      "name": "python"
    }
  },
  "nbformat": 4,
  "nbformat_minor": 0
}