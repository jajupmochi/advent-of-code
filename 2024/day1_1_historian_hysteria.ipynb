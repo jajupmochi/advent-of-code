{
  "cells": [
    {
      "cell_type": "markdown",
      "metadata": {
        "id": "view-in-github",
        "colab_type": "text"
      },
      "source": [
        "<a href=\"https://colab.research.google.com/github/jajupmochi/advent-of-code/blob/main/2024/day1_1_historian_hysteria.ipynb\" target=\"_parent\"><img src=\"https://colab.research.google.com/assets/colab-badge.svg\" alt=\"Open In Colab\"/></a>"
      ]
    },
    {
      "cell_type": "code",
      "execution_count": 29,
      "metadata": {
        "id": "aGheGgWZwCnl"
      },
      "outputs": [],
      "source": [
        "from typing import TextIO\n",
        "import numpy as np\n",
        "\n",
        "\n",
        "def get_sum(doc: TextIO) -> int:\n",
        "  \"\"\"\n",
        "  Get the sum.\n",
        "  \"\"\"\n",
        "  doc = doc.read()\n",
        "  rows = doc.strip().split('\\n')\n",
        "  arr = np.array([np.fromstring(r, sep=' ').reshape(2) for r in rows])\n",
        "  # print(arr)\n",
        "  arr = np.sort(arr, axis=0)\n",
        "  # print(arr)\n",
        "  arr = np.abs(arr[:, 0] - arr[:, 1])\n",
        "  # print(arr)\n",
        "  arr = np.sum(arr, axis=0)\n",
        "  return arr"
      ]
    },
    {
      "cell_type": "code",
      "execution_count": 30,
      "metadata": {
        "colab": {
          "base_uri": "https://localhost:8080/"
        },
        "id": "92o-uxID7R7d",
        "outputId": "6cdffe5c-46b9-4158-dac8-36a243548437"
      },
      "outputs": [
        {
          "output_type": "stream",
          "name": "stdout",
          "text": [
            "11.0\n"
          ]
        }
      ],
      "source": [
        "# example input:\n",
        "from io import StringIO\n",
        "input = StringIO(\n",
        "'''3   4\n",
        "4   3\n",
        "2   5\n",
        "1   3\n",
        "3   9\n",
        "3   3\n",
        "'''\n",
        ")\n",
        "\n",
        "val = get_sum(input)\n",
        "print(val)"
      ]
    },
    {
      "cell_type": "code",
      "execution_count": 31,
      "metadata": {
        "id": "76oPqNzLAeUE"
      },
      "outputs": [],
      "source": [
        "import requests\n",
        "from io import StringIO\n",
        "\n",
        "def load_text_file_from_github(url: str) -> StringIO:\n",
        "    response = requests.get(url)\n",
        "    response.raise_for_status()  # Raise an error for bad responses (4xx, 5xx)\n",
        "    # Convert response text into a file-like object\n",
        "    return StringIO(response.text)"
      ]
    },
    {
      "cell_type": "code",
      "execution_count": 32,
      "metadata": {
        "colab": {
          "base_uri": "https://localhost:8080/"
        },
        "id": "QWrcBLry9KE4",
        "outputId": "5c9870d9-c311-4183-df73-c7256e7a78ca"
      },
      "outputs": [
        {
          "output_type": "stream",
          "name": "stdout",
          "text": [
            "2378066.0\n",
            "Time spent: 0.03287339210510254seconds.\n"
          ]
        }
      ],
      "source": [
        "# puzzle input:\n",
        "import time\n",
        "start_time = time.time()\n",
        "doc_file = load_text_file_from_github('https://raw.githubusercontent.com/jajupmochi/advent-of-code/refs/heads/main/2024/day1_input.txt')\n",
        "val = get_sum(doc_file)\n",
        "print(val)\n",
        "print(f'Time spent: {time.time() - start_time}seconds.')"
      ]
    },
    {
      "cell_type": "markdown",
      "metadata": {
        "id": "lD2WpV_LEHz9"
      },
      "source": [
        "Worst time complexity:\n",
        "\n",
        "Space complexity:\n"
      ]
    }
  ],
  "metadata": {
    "colab": {
      "provenance": [],
      "include_colab_link": true
    },
    "kernelspec": {
      "display_name": "Python 3",
      "name": "python3"
    },
    "language_info": {
      "name": "python"
    }
  },
  "nbformat": 4,
  "nbformat_minor": 0
}