{
  "cells": [
    {
      "cell_type": "markdown",
      "metadata": {
        "id": "view-in-github",
        "colab_type": "text"
      },
      "source": [
        "<a href=\"https://colab.research.google.com/github/jajupmochi/advent-of-code/blob/main/2024/day1_2_historian_hysteria.ipynb\" target=\"_parent\"><img src=\"https://colab.research.google.com/assets/colab-badge.svg\" alt=\"Open In Colab\"/></a>"
      ]
    },
    {
      "cell_type": "code",
      "execution_count": null,
      "metadata": {
        "id": "aGheGgWZwCnl"
      },
      "outputs": [],
      "source": [
        "from typing import TextIO\n",
        "import numpy as np\n",
        "\n",
        "\n",
        "def get_sum(doc: TextIO) -> int:\n",
        "  \"\"\"\n",
        "  Get the sum.\n",
        "  \"\"\"\n",
        "  doc = doc.read()\n",
        "  rows = doc.strip().split('\\n')\n",
        "  arr = np.array([np.fromstring(r, sep=' ').reshape(2) for r in rows])\n",
        "  uniques, counts = np.unique(arr[:, 1], return_counts=True)\n",
        "  occurences = dict(zip(uniques, counts))\n",
        "  occurences = [occurences.get(i, 0) for i in arr[:, 0]]\n",
        "  results = np.multiply(arr[:, 0], occurences)\n",
        "  return sum(results)"
      ]
    },
    {
      "cell_type": "code",
      "execution_count": null,
      "metadata": {
        "colab": {
          "base_uri": "https://localhost:8080/"
        },
        "id": "92o-uxID7R7d",
        "outputId": "c8144b19-3232-4e80-eef1-5449437af781"
      },
      "outputs": [
        {
          "output_type": "stream",
          "name": "stdout",
          "text": [
            "31.0\n"
          ]
        }
      ],
      "source": [
        "# example input:\n",
        "from io import StringIO\n",
        "input = StringIO(\n",
        "'''3   4\n",
        "4   3\n",
        "2   5\n",
        "1   3\n",
        "3   9\n",
        "3   3\n",
        "'''\n",
        ")\n",
        "\n",
        "val = get_sum(input)\n",
        "print(val)"
      ]
    },
    {
      "cell_type": "code",
      "execution_count": null,
      "metadata": {
        "id": "76oPqNzLAeUE"
      },
      "outputs": [],
      "source": [
        "import requests\n",
        "from io import StringIO\n",
        "\n",
        "def load_text_file_from_github(url: str) -> StringIO:\n",
        "    response = requests.get(url)\n",
        "    response.raise_for_status()  # Raise an error for bad responses (4xx, 5xx)\n",
        "    # Convert response text into a file-like object\n",
        "    return StringIO(response.text)"
      ]
    },
    {
      "cell_type": "code",
      "execution_count": null,
      "metadata": {
        "colab": {
          "base_uri": "https://localhost:8080/"
        },
        "id": "QWrcBLry9KE4",
        "outputId": "855c15e5-17b0-4c93-9602-4604d27efc56"
      },
      "outputs": [
        {
          "output_type": "stream",
          "name": "stdout",
          "text": [
            "18934359.0\n",
            "Time spent: 0.19214534759521484seconds.\n"
          ]
        }
      ],
      "source": [
        "# puzzle input:\n",
        "import time\n",
        "start_time = time.time()\n",
        "doc_file = load_text_file_from_github('https://raw.githubusercontent.com/jajupmochi/advent-of-code/refs/heads/main/2024/day1_input.txt')\n",
        "val = get_sum(doc_file)\n",
        "print(val)\n",
        "print(f'Time spent: {time.time() - start_time}seconds.')"
      ]
    },
    {
      "cell_type": "markdown",
      "metadata": {
        "id": "lD2WpV_LEHz9"
      },
      "source": [
        "Worst time complexity:\n",
        "\n",
        "Space complexity:\n"
      ]
    }
  ],
  "metadata": {
    "colab": {
      "provenance": [],
      "include_colab_link": true
    },
    "kernelspec": {
      "display_name": "Python 3",
      "name": "python3"
    },
    "language_info": {
      "name": "python"
    }
  },
  "nbformat": 4,
  "nbformat_minor": 0
}